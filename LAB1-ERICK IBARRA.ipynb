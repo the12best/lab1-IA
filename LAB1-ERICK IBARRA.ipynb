{
  "nbformat": 4,
  "nbformat_minor": 0,
  "metadata": {
    "colab": {
      "provenance": []
    },
    "kernelspec": {
      "name": "python3",
      "display_name": "Python 3"
    },
    "language_info": {
      "name": "python"
    }
  },
  "cells": [
    {
      "cell_type": "markdown",
      "source": [
        "### Cargar el dataset\n"
      ],
      "metadata": {
        "id": "iO_ALE83IrMv"
      }
    },
    {
      "cell_type": "code",
      "execution_count": null,
      "metadata": {
        "colab": {
          "base_uri": "https://localhost:8080/"
        },
        "id": "0cgUW4rXIRqB",
        "outputId": "272f157b-1be2-41b5-8142-1493bd7924c1"
      },
      "outputs": [
        {
          "output_type": "stream",
          "name": "stdout",
          "text": [
            "   COUNTY   STNAME         CTYNAME  CENSUS2010POP  BIRTHS2010\n",
            "0       0  Alabama         Alabama        4779736       14227\n",
            "1       1  Alabama  Autauga County          54571         151\n",
            "2       3  Alabama  Baldwin County         182265         516\n",
            "3       5  Alabama  Barbour County          27457          70\n",
            "4       7  Alabama     Bibb County          22915          44\n"
          ]
        }
      ],
      "source": [
        "import pandas as pd\n",
        "\n",
        "# Ruta del archivo CSV\n",
        "ruta_csv = '/content/drive/MyDrive/Colab Notebooks/Lab1/census.csv'\n",
        "\n",
        "# Cargar el archivo CSV en un DataFrame, especificando la codificación\n",
        "df = pd.read_csv(ruta_csv, encoding='latin-1')\n",
        "\n",
        "# Imprimir las primeras filas del DataFrame\n",
        "print(df.head())\n"
      ]
    },
    {
      "cell_type": "markdown",
      "source": [
        "### Visualizar los primeros 5 campos\n"
      ],
      "metadata": {
        "id": "b2gUBC9EL60n"
      }
    },
    {
      "cell_type": "code",
      "source": [
        "import pandas as pd\n",
        "\n",
        "# Ruta del archivo CSV\n",
        "ruta_csv = '/content/drive/MyDrive/Colab Notebooks/Lab1/census.csv'\n",
        "\n",
        "# Cargar el archivo CSV en un DataFrame\n",
        "df = pd.read_csv(ruta_csv, encoding='latin-1')\n",
        "\n",
        "# Imprimir las 5 primeras filas del DataFrame\n",
        "print(df.head(5))\n"
      ],
      "metadata": {
        "colab": {
          "base_uri": "https://localhost:8080/"
        },
        "id": "kGrZ6jIlL6Wt",
        "outputId": "666b943d-eaed-466a-f9b9-877de975efe7"
      },
      "execution_count": null,
      "outputs": [
        {
          "output_type": "stream",
          "name": "stdout",
          "text": [
            "   COUNTY   STNAME         CTYNAME  CENSUS2010POP  BIRTHS2010\n",
            "0       0  Alabama         Alabama        4779736       14227\n",
            "1       1  Alabama  Autauga County          54571         151\n",
            "2       3  Alabama  Baldwin County         182265         516\n",
            "3       5  Alabama  Barbour County          27457          70\n",
            "4       7  Alabama     Bibb County          22915          44\n"
          ]
        }
      ]
    },
    {
      "cell_type": "markdown",
      "source": [
        "### Saber el tamaño de filas y columnas del dataset"
      ],
      "metadata": {
        "id": "_435f5XNMUIj"
      }
    },
    {
      "cell_type": "code",
      "source": [
        "import pandas as pd\n",
        "\n",
        "# Ruta del archivo CSV\n",
        "ruta_csv = '/content/drive/MyDrive/Colab Notebooks/Lab1/census.csv'\n",
        "\n",
        "# Cargar el archivo CSV en un DataFrame\n",
        "df = pd.read_csv(ruta_csv, encoding='latin-1')\n",
        "\n",
        "# Obtener el tamaño de filas y columnas\n",
        "num_filas, num_columnas = df.shape\n",
        "\n",
        "# Imprimir el tamaño de filas y columnas\n",
        "print(\"Número de filas:\", num_filas)\n",
        "print(\"Número de columnas:\", num_columnas)\n"
      ],
      "metadata": {
        "colab": {
          "base_uri": "https://localhost:8080/"
        },
        "id": "ov1JEfkBMeHc",
        "outputId": "e6412c5b-e1ab-4852-d4e3-9b630bd5b9cf"
      },
      "execution_count": null,
      "outputs": [
        {
          "output_type": "stream",
          "name": "stdout",
          "text": [
            "Número de filas: 3193\n",
            "Número de columnas: 5\n"
          ]
        }
      ]
    },
    {
      "cell_type": "code",
      "source": [
        "import pandas as pd\n",
        "\n",
        "# Ruta del archivo CSV\n",
        "ruta_csv = '/content/drive/MyDrive/Colab Notebooks/Lab1/census.csv'\n",
        "\n",
        "# Columnas de interés\n",
        "columnas_interes = ['STNAME', 'CTYNAME', 'CENSUS2010POP', 'BIRTHS2010']\n",
        "\n",
        "# Cargar el archivo CSV en un DataFrame, seleccionando solo las columnas de interés\n",
        "df = pd.read_csv(ruta_csv, encoding='latin-1', usecols=columnas_interes)\n",
        "\n",
        "# Obtener el tamaño de filas y columnas\n",
        "num_filas, num_columnas = df.shape\n",
        "\n",
        "# Imprimir el tamaño de filas y columnas\n",
        "print(\"Número de filas:\", num_filas)\n",
        "print(\"Número de columnas:\", num_columnas)\n",
        "print(df)\n"
      ],
      "metadata": {
        "colab": {
          "base_uri": "https://localhost:8080/"
        },
        "id": "DYiHL2Kfg0P2",
        "outputId": "277caf25-e77e-4286-c97f-0b239f41b108"
      },
      "execution_count": null,
      "outputs": [
        {
          "output_type": "stream",
          "name": "stdout",
          "text": [
            "Número de filas: 3193\n",
            "Número de columnas: 4\n",
            "       STNAME            CTYNAME  CENSUS2010POP  BIRTHS2010\n",
            "0     Alabama            Alabama        4779736       14227\n",
            "1     Alabama     Autauga County          54571         151\n",
            "2     Alabama     Baldwin County         182265         516\n",
            "3     Alabama     Barbour County          27457          70\n",
            "4     Alabama        Bibb County          22915          44\n",
            "...       ...                ...            ...         ...\n",
            "3188  Wyoming  Sweetwater County          43806         166\n",
            "3189  Wyoming       Teton County          21294          76\n",
            "3190  Wyoming       Uinta County          21118          72\n",
            "3191  Wyoming    Washakie County           8533          26\n",
            "3192  Wyoming      Weston County           7208          26\n",
            "\n",
            "[3193 rows x 4 columns]\n"
          ]
        }
      ]
    },
    {
      "cell_type": "markdown",
      "source": [
        "### Correlacion"
      ],
      "metadata": {
        "id": "E3zJAoCeuBg0"
      }
    },
    {
      "cell_type": "code",
      "source": [
        "import pandas as pd\n",
        "\n",
        "# Ruta del archivo CSV\n",
        "ruta_csv = '/content/drive/MyDrive/Colab Notebooks/Lab1/census.csv'\n",
        "\n",
        "# Columnas de interés\n",
        "columnas_interes = ['STNAME', 'CTYNAME', 'CENSUS2010POP', 'BIRTHS2010']\n",
        "\n",
        "# Cargar el archivo CSV en un DataFrame, seleccionando solo las columnas de interés\n",
        "df = pd.read_csv(ruta_csv, encoding='latin-1', usecols=columnas_interes)\n",
        "\n",
        "# Crear la matriz de correlación\n",
        "matriz_correlacion = df.corr()\n",
        "\n",
        "# Imprimir la matriz de correlación\n",
        "print(matriz_correlacion)\n"
      ],
      "metadata": {
        "colab": {
          "base_uri": "https://localhost:8080/"
        },
        "id": "U6I8pO5CiHuO",
        "outputId": "005b1e5d-2ac2-4c16-c629-70eeab59de03"
      },
      "execution_count": null,
      "outputs": [
        {
          "output_type": "stream",
          "name": "stdout",
          "text": [
            "               CENSUS2010POP  BIRTHS2010\n",
            "CENSUS2010POP       1.000000    0.995909\n",
            "BIRTHS2010          0.995909    1.000000\n"
          ]
        },
        {
          "output_type": "stream",
          "name": "stderr",
          "text": [
            "<ipython-input-11-46905b40a77c>:13: FutureWarning: The default value of numeric_only in DataFrame.corr is deprecated. In a future version, it will default to False. Select only valid columns or specify the value of numeric_only to silence this warning.\n",
            "  matriz_correlacion = df.corr()\n"
          ]
        }
      ]
    },
    {
      "cell_type": "code",
      "source": [],
      "metadata": {
        "id": "c1ExDpGrNNkD"
      },
      "execution_count": null,
      "outputs": []
    },
    {
      "cell_type": "code",
      "source": [
        "import pandas as pd\n",
        "import seaborn as sns\n",
        "import matplotlib.pyplot as plt\n",
        "\n",
        "# Ruta del archivo CSV\n",
        "ruta_csv = '/content/drive/MyDrive/Colab Notebooks/Lab1/census.csv'\n",
        "\n",
        "# Cargar el archivo CSV en un DataFrame, especificando la codificación\n",
        "df = pd.read_csv(ruta_csv, encoding='latin-1')\n",
        "\n",
        "# Eliminar la columna 'COUNTY'\n",
        "df = df.drop('COUNTY', axis=1)\n",
        "\n",
        "# Añadir la columna que representa la proporción de nacimientos respecto al censo\n",
        "df['birth_ratio'] = df['BIRTHS2010'] / df['CENSUS2010POP']\n",
        "\n",
        "# Calcular la matriz de correlación\n",
        "correlation_matrix = df.corr()\n",
        "\n",
        "# Crear una figura y un eje con matplotlib\n",
        "fig, ax = plt.subplots(figsize=(10, 10))\n",
        "\n",
        "# Dibujar el mapa de calor de la matriz de correlación con seaborn\n",
        "sns.heatmap(correlation_matrix, annot=True, fmt=\".2f\", ax=ax, cmap='coolwarm')\n",
        "\n",
        "# Mostrar la gráfica\n",
        "plt.show()\n"
      ],
      "metadata": {
        "colab": {
          "base_uri": "https://localhost:8080/",
          "height": 891
        },
        "id": "EUuSTOh848XC",
        "outputId": "46d3dd35-cf5b-4b93-d5cf-fa828f900c17"
      },
      "execution_count": 4,
      "outputs": [
        {
          "output_type": "stream",
          "name": "stderr",
          "text": [
            "<ipython-input-4-8597bc333551>:18: FutureWarning: The default value of numeric_only in DataFrame.corr is deprecated. In a future version, it will default to False. Select only valid columns or specify the value of numeric_only to silence this warning.\n",
            "  correlation_matrix = df.corr()\n"
          ]
        },
        {
          "output_type": "display_data",
          "data": {
            "text/plain": [
              "<Figure size 1000x1000 with 2 Axes>"
            ],
            "image/png": "[encoded data removed]"
          },
          "metadata": {}
        }
      ]
    },
    {
      "cell_type": "code",
      "source": [
        "import pandas as pd\n",
        "import seaborn as sns\n",
        "import matplotlib.pyplot as plt\n",
        "\n",
        "# Ruta del archivo CSV\n",
        "ruta_csv = '/content/drive/MyDrive/Colab Notebooks/Lab1/census.csv'\n",
        "\n",
        "# Cargar el archivo CSV en un DataFrame, especificando la codificación\n",
        "df = pd.read_csv(ruta_csv, encoding='latin-1')\n",
        "\n",
        "# Eliminar la columna 'COUNTY'\n",
        "df = df.drop('COUNTY', axis=1)\n",
        "\n",
        "# Añadir la columna que representa la proporción de nacimientos respecto al censo\n",
        "df['birth_ratio'] = df['BIRTHS2010'] / df['CENSUS2010POP']\n",
        "\n",
        "# Realizar la codificación One-Hot para las columnas categóricas\n",
        "df_encoded = pd.get_dummies(df, columns=['STNAME', 'CTYNAME'])\n",
        "\n",
        "# Calcular la matriz de correlación\n",
        "correlation_matrix = df_encoded.corr()\n",
        "\n",
        "# Crear una figura y un eje con matplotlib\n",
        "fig, ax = plt.subplots(figsize=(10, 10))\n",
        "\n",
        "# Dibujar el mapa de calor de la matriz de correlación con seaborn\n",
        "sns.heatmap(correlation_matrix, annot=True, fmt=\".2f\", ax=ax, cmap='coolwarm')\n",
        "\n",
        "# Mostrar la gráfica\n",
        "plt.show()\n"
      ],
      "metadata": {
        "id": "J6-_kKNrEjeR"
      },
      "execution_count": null,
      "outputs": []
    },
    {
      "cell_type": "markdown",
      "source": [
        "### Entrenamiento DecisionTreeClassifier"
      ],
      "metadata": {
        "id": "vafXYkkfIRA4"
      }
    },
    {
      "cell_type": "code",
      "source": [
        "from sklearn.model_selection import train_test_split\n",
        "from sklearn.tree import DecisionTreeClassifier\n",
        "from sklearn.metrics import accuracy_score\n",
        "\n",
        "# Definir las variables de entrada y la variable objetivo\n",
        "X = df_encoded.drop('STNAME', axis=1)\n",
        "y = df_encoded['STNAME']\n",
        "\n",
        "# Dividir los datos en conjuntos de entrenamiento y prueba\n",
        "X_train, X_test, y_train, y_test = train_test_split(X, y, test_size=0.2, random_state=42)\n",
        "\n",
        "# Crear y entrenar el modelo de clasificación\n",
        "model = DecisionTreeClassifier()\n",
        "model.fit(X_train, y_train)\n",
        "\n",
        "# Hacer predicciones en el conjunto de prueba\n",
        "y_pred = model.predict(X_test)\n",
        "\n",
        "# Calcular la precisión del modelo\n",
        "accuracy = accuracy_score(y_test, y_pred)\n",
        "print(\"Accuracy: \", accuracy)\n"
      ],
      "metadata": {
        "colab": {
          "base_uri": "https://localhost:8080/",
          "height": 235
        },
        "id": "ZMIxKdocHZuJ",
        "outputId": "cd99f58f-d452-49a8-d59e-4f8b51a51a28"
      },
      "execution_count": 1,
      "outputs": [
        {
          "output_type": "error",
          "ename": "NameError",
          "evalue": "ignored",
          "traceback": [
            "\u001b[0;31m---------------------------------------------------------------------------\u001b[0m",
            "\u001b[0;31mNameError\u001b[0m                                 Traceback (most recent call last)",
            "\u001b[0;32m<ipython-input-1-84ce12fff8d4>\u001b[0m in \u001b[0;36m<cell line: 6>\u001b[0;34m()\u001b[0m\n\u001b[1;32m      4\u001b[0m \u001b[0;34m\u001b[0m\u001b[0m\n\u001b[1;32m      5\u001b[0m \u001b[0;31m# Definir las variables de entrada y la variable objetivo\u001b[0m\u001b[0;34m\u001b[0m\u001b[0;34m\u001b[0m\u001b[0m\n\u001b[0;32m----> 6\u001b[0;31m \u001b[0mX\u001b[0m \u001b[0;34m=\u001b[0m \u001b[0mdf_encoded\u001b[0m\u001b[0;34m.\u001b[0m\u001b[0mdrop\u001b[0m\u001b[0;34m(\u001b[0m\u001b[0;34m'STNAME'\u001b[0m\u001b[0;34m,\u001b[0m \u001b[0maxis\u001b[0m\u001b[0;34m=\u001b[0m\u001b[0;36m1\u001b[0m\u001b[0;34m)\u001b[0m\u001b[0;34m\u001b[0m\u001b[0;34m\u001b[0m\u001b[0m\n\u001b[0m\u001b[1;32m      7\u001b[0m \u001b[0my\u001b[0m \u001b[0;34m=\u001b[0m \u001b[0mdf_encoded\u001b[0m\u001b[0;34m[\u001b[0m\u001b[0;34m'STNAME'\u001b[0m\u001b[0;34m]\u001b[0m\u001b[0;34m\u001b[0m\u001b[0;34m\u001b[0m\u001b[0m\n\u001b[1;32m      8\u001b[0m \u001b[0;34m\u001b[0m\u001b[0m\n",
            "\u001b[0;31mNameError\u001b[0m: name 'df_encoded' is not defined"
          ]
        }
      ]
    },
    {
      "cell_type": "markdown",
      "source": [
        "### Entrenamiento KNeighborsClassifier"
      ],
      "metadata": {
        "id": "klKlne60IZP-"
      }
    },
    {
      "cell_type": "code",
      "source": [
        "from sklearn.model_selection import train_test_split\n",
        "from sklearn.neighbors import KNeighborsClassifier\n",
        "from sklearn.metrics import accuracy_score\n",
        "\n",
        "# Definir las variables de entrada y la variable objetivo\n",
        "X = df_encoded.drop('STNAME', axis=1)\n",
        "y = df_encoded['STNAME']\n",
        "\n",
        "# Dividir los datos en conjuntos de entrenamiento y prueba\n",
        "X_train, X_test, y_train, y_test = train_test_split(X, y, test_size=0.2, random_state=42)\n",
        "\n",
        "# Crear y entrenar el modelo de clasificación\n",
        "model = KNeighborsClassifier()\n",
        "model.fit(X_train, y_train)\n",
        "\n",
        "# Hacer predicciones en el conjunto de prueba\n",
        "y_pred = model.predict(X_test)\n",
        "\n",
        "# Calcular la precisión del modelo\n",
        "accuracy = accuracy_score(y_test, y_pred)\n",
        "print(\"Accuracy: \", accuracy)\n"
      ],
      "metadata": {
        "id": "OD7zoiZZIn42"
      },
      "execution_count": null,
      "outputs": []
    },
    {
      "cell_type": "code",
      "source": [],
      "metadata": {
        "id": "Kptohr-pIoZC"
      },
      "execution_count": null,
      "outputs": []
    }
  ]
}